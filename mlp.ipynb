{
 "cells": [
  {
   "cell_type": "markdown",
   "id": "cordless-gentleman",
   "metadata": {},
   "source": [
    "# شبکه عصبی پرسپترون چندلایه\n",
    "\n",
    "یک کلاس به نام \n",
    "\n",
    "DenseMLP\n",
    "\n",
    "داریم که در کانستراکتور آن داده های آموزش و تست به همراه لیبل آنها تنظیم می شوند. همینطور وزن ها با توزیع نرمال استاندارد و بایاس ها با صفر مقداردهی اولیه می شوند. همینطور تابع فعالسازی و مشتق آن نیز برابر با سیگموید و مشتق سیگموید قرار گرفته است.\n",
    "\n",
    "ساختار کلی شبکه ماننده دستور کار تعین شده است. وزن ها به ترتیب از اول به آخر عبارتند از :\n",
    "\n",
    "u, v, w\n",
    "\n",
    "و همچنین بایاس ها نیز به ترتیب از لایه اول به آخر عبارتند از:\n",
    "\n",
    "bu, bv, bw\n",
    "\n",
    "-------------------------------\n",
    "\n",
    "feed_forward:\n",
    "\n",
    "در این تابع یک عکس به عنوان ورودی گرفته می شود و سپس هر خروجی در لایه بعد عبارت است از مجموع ضرب هر خروجی لایه قبل در وزن میان دو خروجی به علاوه بایاس آن که  از آنها سیگموید گرفته شده است. به این ترتیب خروجی کلی شبکه یعنی آ4 همراه با نتایج میانی آن محاسبه می شود و خروجی داده می شود.\n",
    "\n",
    "predict:\n",
    "\n",
    "در این تابع برای یک ورودی روند \n",
    "\n",
    "feed forward \n",
    "\n",
    "انجام شده و نتیجه آن به صورت ایندکس کلاس تشخیص داده شده خروجی داده می شود.\n",
    "\n",
    "test_n و train_n:\n",
    "\n",
    "در این دو تابع برای تعداد مشخص ورودی گرفته شده از مجموعه داده آموزش یا تست، شبکه ما آزمون می شود.\n",
    "\n",
    "به این صورت که برای هر داده با استفاده از تابع \n",
    "\n",
    "predict\n",
    "\n",
    "خروجی شبکه مشخص می شود و سپس با لیبل مشخص شده از مجموعه داده مقایسه می شود و در صورت پیشبینی صحیح شبکه، آن را می شمارد. در نهایت بر تعداد کل عکس های مد نظر تقسیم می کنیم تا دقت کلی را بدست بیاوریم.\n",
    "\n",
    "get_cost:\n",
    "\n",
    "تابع هزینه ما را تعریف می کند که برابر است با مجموع مربعات فاصله خروجی شبکه از پاسخ اصلی برای یک ورودی بخصوص\n",
    "\n",
    "compute_gradient:\n",
    "\n",
    "در این تابع ابتدا توسط \n",
    "\n",
    "feed_forward\n",
    "\n",
    "نتایج اصلی و میانی شبکه برای آن ورودی بخصوص بدست می آید. سپس با استفاده از روش گرادیان، تاثیرات هر وزن و بایاس را بر هزینه کل با استفاده از گرادیان هزینه کل به آن وزن یا بایاس بدست می آوریم و برای این کار از قواعد زنجیری استفاده می کنیم. در انتهای این تابع، گرادیان هزینه به تمامی وزن ها و بایاس ها همراه با هزینه کل ( برای جلوگیری از محاسبه دوباره آن) را خروجی می دهیم.\n",
    "\n",
    "در این تابع تک تک وزن ها به تنهایی در حلقه های تو در تو محاسبه می شوند. برای پیاده سازی بهینه تر نسخه \n",
    "\n",
    "vectorize \n",
    "\n",
    "آن نیز در ادامه مطرح شده است.\n",
    "\n",
    "compute_gradient_vec:\n",
    "\n",
    "در اینجا نیز مانند تابع قبل قصد محاسبه گرادیان برای هزینه بدست آمده برای یک ورودی خاص نسبت به تمامی وزن ها و بایاس ها را داریم و این کار را به وسیله ماتریس ها و بردار ها انجام می دهیم که از لحاظ عملکرد نتیجه بهتری نسبت به تابع قبل نشان می دهد.\n",
    "\n",
    "gradient_descent و gradient_descent_vec:\n",
    "\n",
    "الگوریتم گرادیان کاهشی را برای محاسبه با ویا بدون برداری گرادیان در اینجا پیاده سازی کرده ایم\n",
    "\n",
    "تعداد ایپاک ها از پیش مشخص می شوند و به این تعداد ما مجموعه داده مشخص شده را به خورد شبکه می دهیم، گرادیان آن را محاسبه می کنیم، و در وزن ها تاثیر میدهیم و سپس دوباره برای کل مجموعه داده این روند را تکرار می کنیم.\n",
    "\n",
    "پس در هر ایپاک، داده ها به دسته های مساوی تقسیم می شوند و برای هر دسته داده، گرادیان هر ماتریس وزن به صورت تجمعی محاسبه می شوند(یعنی گرادیان هر ماتریس وزن برای تک تک ورودی های آن دسته محاسبه شده و جمع می شود) و نهایتا پس از اتمام دسته، با ضرب در ضریب یادگیری و تقسیم بر اندازه دسته، در ماتریس وزن های کل تاثیر داده می شود.(تمامی این محاسبات برای بایاس ها نیز انجام می شود.) سپس همین روند برای دسته های دیگر در ایپاک طی می شوند.\n",
    "\n",
    "هنگامی که ایپاک به اتمام رسید، در شروع ایپاک بعدی مجموعه داده مورد نظر به هم ریخته می شوند و همین روند آموزش دوباره سپری می شود.\n",
    "\n",
    "برای گرادیان کاهشی بردارسازی شده نیز همین روند طی می شود صرفا برای محاسبه گرادیان هر ماتریس وزن از تابع\n",
    "\n",
    "compute_gradient_vec\n",
    "\n",
    "استفاده کرده است."
   ]
  },
  {
   "cell_type": "code",
   "execution_count": 1,
   "id": "honey-strap",
   "metadata": {},
   "outputs": [],
   "source": [
    "import numpy as np\n",
    "import matplotlib.pyplot as plt\n",
    "import math\n",
    "import time\n",
    "\n",
    "class DenseMLP():\n",
    "    def __init__(self, train_set, train_labels, test_set, test_labels):\n",
    "        self.train_set = train_set\n",
    "        self.train_labels = train_labels\n",
    "        self.test_set = test_set\n",
    "        self.test_labels = test_labels\n",
    "        self.u = np.random.standard_normal(size=(16, 1024))\n",
    "        self.v = np.random.standard_normal(size=(16, 16))\n",
    "        self.w = np.random.standard_normal(size=(4, 16))\n",
    "        self.bu= np.zeros((16, 1))\n",
    "        self.bv= np.zeros((16, 1))\n",
    "        self.bw= np.zeros((4, 1))\n",
    "        self.activation = np.vectorize(sigmoid)\n",
    "        self.dactivation = np.vectorize(dsigmoid)\n",
    "        \n",
    "    def feed_forward(self, a1):\n",
    "        assert len(a1) == 1024\n",
    "        z2 = np.add(self.u.dot(a1), self.bu)\n",
    "        a2 = self.activation(z2)\n",
    "        z3 = np.add(self.v.dot(a2), self.bv)\n",
    "        a3 = self.activation(z3)\n",
    "        z4 = np.add(self.w.dot(a3), self.bw)\n",
    "        a4 = self.activation(z4)\n",
    "        return a2, a3, a4, z2, z3, z4\n",
    "    \n",
    "    def predict(self, a1):\n",
    "        _1, _2, ff, _3, _4, _5 = self.feed_forward(a1)\n",
    "        i = 0\n",
    "        for j in range(1, len(ff)):\n",
    "            if ff[j] > ff[i]:\n",
    "                i = j\n",
    "        return i\n",
    "    \n",
    "    def test_n(self, n):\n",
    "        size = n if n < len(self.test_set) else len(self.test_set)\n",
    "        correct = 0\n",
    "        for i in range(0, size):\n",
    "            in_img = self.test_set[i].reshape(1024, -1)\n",
    "            res = self.predict(in_img)\n",
    "            if res == self.test_labels[i]:\n",
    "                correct+=1\n",
    "        return correct/size\n",
    "    \n",
    "    def train_n(self, n):\n",
    "        size = n if n < len(self.train_set) else len(self.train_set)\n",
    "        correct = 0\n",
    "        for i in range(0, size):\n",
    "            in_img = self.train_set[i].reshape(1024, -1)\n",
    "            res = self.predict(in_img)\n",
    "            if res == self.train_labels[i]:\n",
    "                correct+=1\n",
    "        return correct/size\n",
    "    \n",
    "    def get_result_array(self, cl):\n",
    "        ys = np.zeros(4)\n",
    "        ys[cl] = 1\n",
    "        return ys\n",
    "    \n",
    "    def get_cost(self, y, ys):\n",
    "        assert len(y) == len(ys)\n",
    "        cost = 0\n",
    "        for i in range(len(y)):\n",
    "            cost += (y[i] - ys[i])**2\n",
    "        return cost\n",
    "    \n",
    "    def compute_gradient(self, a1, cl):\n",
    "        a2, a3, a4, z2, z3, z4 = self.feed_forward(a1)\n",
    "        a4s = self.get_result_array(cl)\n",
    "        cost = self.get_cost(a4, a4s)\n",
    "    \n",
    "        gu = np.zeros((16, 1024))\n",
    "        gv = np.zeros((16, 16))\n",
    "        gw = np.zeros((4, 16))\n",
    "        gbu = np.zeros((16, 1))\n",
    "        gbv = np.zeros((16, 1))\n",
    "        gbw = np.zeros((4, 1)) \n",
    "        \n",
    "        for k in range(4):\n",
    "            tmp = (a4[k] - a4s[k])*(self.dactivation(z4[k]))\n",
    "            ## gradient of bw_k\n",
    "            gbw[k] = tmp\n",
    "            for j in range(16):\n",
    "                ## gradient of w_jk\n",
    "                res = tmp*a3[j]\n",
    "                gw[k][j] = res\n",
    "                \n",
    "        for j in range(16):\n",
    "            tmp = 0\n",
    "            for k in range(4):\n",
    "                tmp += (a4[k]-a4s[k])*self.dactivation(z4[k])*self.w[k][j]\n",
    "            tmp = tmp * self.dactivation(z3[j])\n",
    "            ## gradient of bv_j\n",
    "            gbv[j] = tmp\n",
    "            for i in range(16):\n",
    "                ## gradient of v_ij\n",
    "                res = tmp*a2[i]\n",
    "                gv[j][i] = res\n",
    "        \n",
    "        for i in range(16):\n",
    "            tmp = 0\n",
    "            for k in range(4):\n",
    "                ttmp = 0\n",
    "                for j in range(16):\n",
    "                    ttmp += self.w[k][j]*self.dactivation(z3[j])*self.v[j][i]\n",
    "                tmp += (a4[k]-a4s[k])*self.dactivation(z4[k])*ttmp\n",
    "            tmp = tmp * self.dactivation(z2[i])\n",
    "            ## gradient of bu_i\n",
    "            gbu[i] = tmp\n",
    "            for h in range(1024):\n",
    "                ## gradient of u_hi\n",
    "                res = tmp * a1[h]\n",
    "                gu[i][h] = res\n",
    "                \n",
    "        return gu, gv, gw, gbu, gbv, gbw, cost\n",
    "    \n",
    "    def compute_gradient_vec(self, a1, cl):\n",
    "        a2, a3, a4, z2, z3, z4 = self.feed_forward(a1)\n",
    "        a4s = self.get_result_array(cl).reshape(4,-1)\n",
    "        cost = self.get_cost(a4, a4s)\n",
    "    \n",
    "        gu = np.zeros((16, 1024))\n",
    "        gv = np.zeros((16, 16))\n",
    "        gw = np.zeros((4, 16))\n",
    "        gbu = np.zeros((16, 1))\n",
    "        gbv = np.zeros((16, 1))\n",
    "        gbw = np.zeros((4, 1)) \n",
    "        \n",
    "        gbw = (a4 - a4s) * self.dactivation(z4)\n",
    "        gw = gbw @ np.transpose(a3)\n",
    "                \n",
    "        gbv = (np.transpose(self.w) @ gbw) * self.dactivation(z3)\n",
    "        gv = gbv @ np.transpose(a2)\n",
    "        \n",
    "        gbu = (np.transpose(self.w @ (self.dactivation(z3)* self.v)) @ gbw) * self.dactivation(z2)\n",
    "        gu = gbu @ np.transpose(a1)\n",
    "\n",
    "        return gu, gv, gw, gbu, gbv, gbw, cost\n",
    "    \n",
    "    def gradient_descent(self, size=200, learning_rate=0.3, batch_size=16, number_of_epochs=10):\n",
    "        start_time = time.time()\n",
    "        temp_train_data, temp_train_label = self.train_set[:size], self.train_labels[:size]\n",
    "        mean_costs = np.array([])\n",
    "        for e in range(number_of_epochs):\n",
    "            ## shuffle train set\n",
    "            temp_train_data, temp_train_label = shuffle(temp_train_data, temp_train_label)\n",
    "            number_of_batches = int(len(temp_train_data)/batch_size)\n",
    "            epoch_costs = np.array([])\n",
    "            for b in range(number_of_batches):\n",
    "                ## initialize weight and biases difference for this batch with zero matrices and vectors\n",
    "                grad_u = np.zeros((16, 1024))\n",
    "                grad_v = np.zeros((16, 16))\n",
    "                grad_w = np.zeros((4, 16))\n",
    "                grad_bu = np.zeros((16, 1))\n",
    "                grad_bv = np.zeros((16, 1))\n",
    "                grad_bw = np.zeros((4, 1))\n",
    "                \n",
    "                for img_index in range(batch_size):\n",
    "                    ## compute gradient for weights and biases given on picture of the batch\n",
    "                    index = b*batch_size + img_index\n",
    "                    img, label = temp_train_data[index].reshape(1024, -1), temp_train_label[index]\n",
    "                    gu, gv, gw, gbu, gbv, gbw, cost = self.compute_gradient(img, label)\n",
    "                    grad_u += gu\n",
    "                    grad_v += gv\n",
    "                    grad_w += gw\n",
    "                    grad_bu += gbu\n",
    "                    grad_bv += gbv\n",
    "                    grad_bw += gbw\n",
    "                    epoch_costs = np.append(epoch_costs, cost)\n",
    "                    \n",
    "                ## after computing backpropagation on one batch, update weights and biases in the network\n",
    "                \n",
    "                self.w = np.subtract(self.w, (learning_rate * (grad_w / batch_size)))\n",
    "                self.v = np.subtract(self.v, (learning_rate * (grad_v / batch_size)))                \n",
    "                self.u = np.subtract(self.u, (learning_rate * (grad_u / batch_size)))\n",
    "                self.bw = np.subtract(self.bw, (learning_rate * (grad_bw / batch_size)))\n",
    "                self.bv = np.subtract(self.bv, (learning_rate * (grad_bv / batch_size)))\n",
    "                self.bu = np.subtract(self.bu, (learning_rate * (grad_bu / batch_size)))\n",
    "            \n",
    "            ## compute avg cost in this epoch\n",
    "            mean_costs = np.append(mean_costs, np.mean(epoch_costs))\n",
    "        return mean_costs, (time.time() - start_time)\n",
    "    \n",
    "    def gradient_descent_vec(self, size=200, learning_rate=0.3, batch_size=16, number_of_epochs=10):\n",
    "        start_time = time.time()\n",
    "        temp_train_data, temp_train_label = self.train_set[:size], self.train_labels[:size]\n",
    "        mean_costs = np.array([])\n",
    "        for e in range(number_of_epochs):\n",
    "            ## shuffle train set\n",
    "            temp_train_data, temp_train_label = shuffle(temp_train_data, temp_train_label)\n",
    "            number_of_batches = int(len(temp_train_data)/batch_size)\n",
    "            epoch_costs = np.array([])\n",
    "            for b in range(number_of_batches):\n",
    "                ## initialize weight and biases difference for this batch with zero matrices and vectors\n",
    "                grad_u = np.zeros((16, 1024))\n",
    "                grad_v = np.zeros((16, 16))\n",
    "                grad_w = np.zeros((4, 16))\n",
    "                grad_bu = np.zeros((16, 1))\n",
    "                grad_bv = np.zeros((16, 1))\n",
    "                grad_bw = np.zeros((4, 1))\n",
    "                \n",
    "                for img_index in range(batch_size):\n",
    "                    ## compute gradient for weights and biases given on picture of the batch\n",
    "                    index = b*batch_size + img_index\n",
    "                    img, label = temp_train_data[index].reshape(1024, -1), temp_train_label[index]\n",
    "                    gu, gv, gw, gbu, gbv, gbw, cost = self.compute_gradient_vec(img, label)\n",
    "                    grad_u += gu\n",
    "                    grad_v += gv\n",
    "                    grad_w += gw\n",
    "                    grad_bu += gbu\n",
    "                    grad_bv += gbv\n",
    "                    grad_bw += gbw\n",
    "                    epoch_costs = np.append(epoch_costs, cost)\n",
    "                    \n",
    "                ## after computing backpropagation on one batch, update weights and biases in the network\n",
    "                \n",
    "                self.w = np.subtract(self.w, (learning_rate * (grad_w / batch_size)))\n",
    "                self.v = np.subtract(self.v, (learning_rate * (grad_v / batch_size)))                \n",
    "                self.u = np.subtract(self.u, (learning_rate * (grad_u / batch_size)))\n",
    "                self.bw = np.subtract(self.bw, (learning_rate * (grad_bw / batch_size)))\n",
    "                self.bv = np.subtract(self.bv, (learning_rate * (grad_bv / batch_size)))\n",
    "                self.bu = np.subtract(self.bu, (learning_rate * (grad_bu / batch_size)))\n",
    "            \n",
    "            ## compute avg cost in this epoch\n",
    "            mean_costs = np.append(mean_costs, np.mean(epoch_costs))\n",
    "        return mean_costs, (time.time() - start_time)"
   ]
  },
  {
   "cell_type": "code",
   "execution_count": 2,
   "id": "automated-strain",
   "metadata": {},
   "outputs": [],
   "source": [
    "def select_set(data, labels, cat):\n",
    "    selected_data = []\n",
    "    data_labels = []\n",
    "    for i in range(0, data.shape[0]):\n",
    "        if labels[i] in cat:\n",
    "            selected_data.append(data[i,:,:,:])\n",
    "            data_labels.append(labels[i])\n",
    "    return np.array(selected_data), np.array(data_labels)\n",
    "\n",
    "def rgb2gray(rgb):\n",
    "    r, g, b = rgb[:, :, :, 0], rgb[:, :, :,1], rgb[:, :, :, 2]\n",
    "    gray = 0.2989 * r + 0.5870 * g + 0.1140 * b\n",
    "    return gray\n",
    "\n",
    "def shuffle(a, b):\n",
    "    assert len(a) == len(b)\n",
    "    p = np.random.permutation(len(a))\n",
    "    return a[p], b[p]\n",
    "\n",
    "def sigmoid(x):\n",
    "  return 1 / (1 + math.exp(-x))\n",
    "\n",
    "def dsigmoid(x):\n",
    "    return sigmoid(x)*(1-sigmoid(x))\n",
    "\n"
   ]
  },
  {
   "cell_type": "markdown",
   "id": "hollywood-fiber",
   "metadata": {},
   "source": [
    "## تابع کمکی برای خواندن CIFAR\n",
    "\n",
    "برای خواندن مجموعه داده از فایل دریافتی از مرجع از تابع \n",
    "\n",
    "load_cifar_10_data \n",
    "\n",
    "استفاده کردیم که توسط \n",
    "\n",
    "[github](https://github.com/snatch59/load-cifar-10)\n",
    "\n",
    "نوشته شده است."
   ]
  },
  {
   "cell_type": "code",
   "execution_count": 3,
   "id": "religious-moment",
   "metadata": {},
   "outputs": [],
   "source": [
    "import numpy as np\n",
    "import matplotlib.pyplot as plt\n",
    "import pickle\n",
    "\n",
    "\"\"\"\n",
    "The CIFAR-10 dataset consists of 60000 32x32 colour images in 10 classes, with 6000 images per class. There are 50000 \n",
    "training images and 10000 test images.\n",
    "\n",
    "The dataset is divided into five training batches and one test batch, each with 10000 images. The test batch contains \n",
    "exactly 1000 randomly-selected images from each class. The training batches contain the remaining images in random \n",
    "order, but some training batches may contain more images from one class than another. Between them, the training \n",
    "batches contain exactly 5000 images from each class.\n",
    "\"\"\"\n",
    "\n",
    "\n",
    "def unpickle(file):\n",
    "    \"\"\"load the cifar-10 data\"\"\"\n",
    "\n",
    "    with open(file, 'rb') as fo:\n",
    "        data = pickle.load(fo, encoding='bytes')\n",
    "    return data\n",
    "\n",
    "\n",
    "def load_cifar_10_data(data_dir, negatives=False):\n",
    "    \"\"\"\n",
    "    Return train_data, train_filenames, train_labels, test_data, test_filenames, test_labels\n",
    "    \"\"\"\n",
    "\n",
    "    # get the meta_data_dict\n",
    "    # num_cases_per_batch: 1000\n",
    "    # label_names: ['airplane', 'automobile', 'bird', 'cat', 'deer', 'dog', 'frog', 'horse', 'ship', 'truck']\n",
    "    # num_vis: :3072\n",
    "\n",
    "    meta_data_dict = unpickle(data_dir + \"/batches.meta\")\n",
    "    cifar_label_names = meta_data_dict[b'label_names']\n",
    "    cifar_label_names = np.array(cifar_label_names)\n",
    "\n",
    "    # training data\n",
    "    cifar_train_data = None\n",
    "    cifar_train_filenames = []\n",
    "    cifar_train_labels = []\n",
    "\n",
    "    # cifar_train_data_dict\n",
    "    # 'batch_label': 'training batch 5 of 5'\n",
    "    # 'data': ndarray\n",
    "    # 'filenames': list\n",
    "    # 'labels': list\n",
    "\n",
    "    for i in range(1, 6):\n",
    "        cifar_train_data_dict = unpickle(data_dir + \"/data_batch_{}\".format(i))\n",
    "        if i == 1:\n",
    "            cifar_train_data = cifar_train_data_dict[b'data']\n",
    "        else:\n",
    "            cifar_train_data = np.vstack((cifar_train_data, cifar_train_data_dict[b'data']))\n",
    "        cifar_train_filenames += cifar_train_data_dict[b'filenames']\n",
    "        cifar_train_labels += cifar_train_data_dict[b'labels']\n",
    "\n",
    "    cifar_train_data = cifar_train_data.reshape((len(cifar_train_data), 3, 32, 32))\n",
    "    if negatives:\n",
    "        cifar_train_data = cifar_train_data.transpose(0, 2, 3, 1).astype(np.float32)\n",
    "    else:\n",
    "        cifar_train_data = np.rollaxis(cifar_train_data, 1, 4)\n",
    "    cifar_train_filenames = np.array(cifar_train_filenames)\n",
    "    cifar_train_labels = np.array(cifar_train_labels)\n",
    "\n",
    "    # test data\n",
    "    # cifar_test_data_dict\n",
    "    # 'batch_label': 'testing batch 1 of 1'\n",
    "    # 'data': ndarray\n",
    "    # 'filenames': list\n",
    "    # 'labels': list\n",
    "\n",
    "    cifar_test_data_dict = unpickle(data_dir + \"/test_batch\")\n",
    "    cifar_test_data = cifar_test_data_dict[b'data']\n",
    "    cifar_test_filenames = cifar_test_data_dict[b'filenames']\n",
    "    cifar_test_labels = cifar_test_data_dict[b'labels']\n",
    "\n",
    "    cifar_test_data = cifar_test_data.reshape((len(cifar_test_data), 3, 32, 32))\n",
    "    if negatives:\n",
    "        cifar_test_data = cifar_test_data.transpose(0, 2, 3, 1).astype(np.float32)\n",
    "    else:\n",
    "        cifar_test_data = np.rollaxis(cifar_test_data, 1, 4)\n",
    "    cifar_test_filenames = np.array(cifar_test_filenames)\n",
    "    cifar_test_labels = np.array(cifar_test_labels)\n",
    "\n",
    "    return cifar_train_data, cifar_train_filenames, cifar_train_labels, \\\n",
    "        cifar_test_data, cifar_test_filenames, cifar_test_labels, cifar_label_names"
   ]
  },
  {
   "cell_type": "markdown",
   "id": "entire-dressing",
   "metadata": {},
   "source": [
    "# قدم 1-1\n",
    " \n",
    "چهار ماتریس اصلی ما شامل\n",
    "\n",
    "traind, trainl, testd, testl\n",
    "\n",
    "هستند.\n",
    "\n",
    "برای اینکه دستور پایین به درستی کار کند، مجموعه داده مخصوص پایتون را که از مرجع اصلی دانلود کردیم در کنار فایل نوتبوک \n",
    "\n",
    "extract \n",
    "\n",
    "می کنیم که در این صورت فولدر حاوی مجموعه داده در سطح با فایل نوتبوک خواهد بود."
   ]
  },
  {
   "cell_type": "code",
   "execution_count": 4,
   "id": "super-resort",
   "metadata": {},
   "outputs": [
    {
     "name": "stdout",
     "output_type": "stream",
     "text": [
      "original train set: (50000, 32, 32, 3)\n"
     ]
    }
   ],
   "source": [
    "cifar_10_dir = 'cifar-10-batches-py'\n",
    "\n",
    "train_data, train_filenames, train_labels, test_data, test_filenames, test_labels, label_names = \\\n",
    "        load_cifar_10_data(cifar_10_dir)\n",
    "\n",
    "print(f'original train set: {train_data.shape}')"
   ]
  },
  {
   "cell_type": "code",
   "execution_count": 5,
   "id": "mathematical-evanescence",
   "metadata": {},
   "outputs": [],
   "source": [
    "traind, trainl = select_set(train_data, train_labels, [0, 1, 2, 3])\n",
    "testd, testl = select_set(test_data, test_labels, [0, 1, 2, 3])"
   ]
  },
  {
   "cell_type": "code",
   "execution_count": 6,
   "id": "adopted-sunday",
   "metadata": {},
   "outputs": [
    {
     "name": "stdout",
     "output_type": "stream",
     "text": [
      "selected train set: (20000, 32, 32, 3)\n",
      "their labels: (20000,)\n",
      "selected train set: (4000, 32, 32, 3)\n",
      "their labels: (4000,)\n"
     ]
    }
   ],
   "source": [
    "print(f'selected train set: {traind.shape}')\n",
    "print(f'their labels: {trainl.shape}')\n",
    "print(f'selected train set: {testd.shape}')\n",
    "print(f'their labels: {testl.shape}')"
   ]
  },
  {
   "cell_type": "code",
   "execution_count": 31,
   "id": "southeast-toner",
   "metadata": {},
   "outputs": [
    {
     "name": "stdout",
     "output_type": "stream",
     "text": [
      "b'automobile'\n"
     ]
    },
    {
     "data": {
      "text/plain": [
       "<matplotlib.image.AxesImage at 0x24404c27760>"
      ]
     },
     "execution_count": 31,
     "metadata": {},
     "output_type": "execute_result"
    },
    {
     "data": {
      "image/png": "[encoded data removed]",
      "text/plain": [
       "<Figure size 432x288 with 1 Axes>"
      ]
     },
     "metadata": {
      "needs_background": "light"
     },
     "output_type": "display_data"
    }
   ],
   "source": [
    "print(label_names[trainl[0]])\n",
    "plt.imshow(traind[0,...])"
   ]
  },
  {
   "cell_type": "markdown",
   "id": "square-hearing",
   "metadata": {},
   "source": [
    "## قدم 1-2\n",
    "\n",
    "با استفاده از تابع \n",
    "\n",
    "rgb2gray \n",
    "\n",
    "تبدیل تصاویر رنگی به تصاویر خاکستری انجام می شود.\n",
    "\n",
    "traindg, testdg"
   ]
  },
  {
   "cell_type": "code",
   "execution_count": 32,
   "id": "gorgeous-shade",
   "metadata": {},
   "outputs": [],
   "source": [
    "traindg = rgb2gray(traind)\n",
    "testdg = rgb2gray(testd)"
   ]
  },
  {
   "cell_type": "code",
   "execution_count": 33,
   "id": "demonstrated-course",
   "metadata": {},
   "outputs": [
    {
     "data": {
      "text/plain": [
       "<matplotlib.image.AxesImage at 0x24401b01eb0>"
      ]
     },
     "execution_count": 33,
     "metadata": {},
     "output_type": "execute_result"
    },
    {
     "data": {
      "image/png": "[encoded data removed]",
      "text/plain": [
       "<Figure size 432x288 with 1 Axes>"
      ]
     },
     "metadata": {
      "needs_background": "light"
     },
     "output_type": "display_data"
    }
   ],
   "source": [
    "plt.imshow(traindg[0])"
   ]
  },
  {
   "cell_type": "markdown",
   "id": "imperial-engine",
   "metadata": {},
   "source": [
    "## قدم 1-3\n",
    "\n",
    "تمام داده ها را تقسیم بر 255 می کنیم تا همگی در بازه 0 تا 1 قرار بگیرند"
   ]
  },
  {
   "cell_type": "code",
   "execution_count": 34,
   "id": "local-syntax",
   "metadata": {},
   "outputs": [],
   "source": [
    "traindgn, testdgn = (traindg/255.0), (testdg/255.0)"
   ]
  },
  {
   "cell_type": "markdown",
   "id": "overhead-yeast",
   "metadata": {},
   "source": [
    "## قدم 1-4\n",
    "\n",
    "عمل\n",
    "\n",
    "flat\n",
    "\n",
    "کردن داده ها از طریق تابع\n",
    "\n",
    "reshape\n",
    "\n",
    "انجام گرفت"
   ]
  },
  {
   "cell_type": "code",
   "execution_count": 35,
   "id": "comparable-harvard",
   "metadata": {},
   "outputs": [
    {
     "data": {
      "text/plain": [
       "(20000, 32, 32)"
      ]
     },
     "execution_count": 35,
     "metadata": {},
     "output_type": "execute_result"
    }
   ],
   "source": [
    "traindgn.shape"
   ]
  },
  {
   "cell_type": "code",
   "execution_count": 36,
   "id": "defined-tender",
   "metadata": {},
   "outputs": [
    {
     "name": "stdout",
     "output_type": "stream",
     "text": [
      "(20000, 1024)\n",
      "(4000, 1024)\n"
     ]
    }
   ],
   "source": [
    "traindgnf = traindgn.reshape(-1, 1024)\n",
    "testdgnf = testdgn.reshape(-1, 1024)\n",
    "print(traindgnf.shape)\n",
    "print(testdgnf.shape)"
   ]
  },
  {
   "cell_type": "markdown",
   "id": "described-narrow",
   "metadata": {},
   "source": [
    "## قدم 1-5\n",
    "\n",
    "به وسیله تابع \n",
    "\n",
    "shuffle\n",
    "\n",
    "دو آرایه \n",
    "\n",
    "traindgnf و trainl\n",
    "\n",
    "که داده های آموزش و برچسب های آنها هستند را به هم ریخته می کنیم. از این تابع در هر \n",
    "\n",
    "epoch\n",
    "\n",
    "برای به هم ریختن دوباره مجموعه داده های آموزشی استفاده خواهیم کرد."
   ]
  },
  {
   "cell_type": "code",
   "execution_count": 37,
   "id": "cooperative-mauritius",
   "metadata": {},
   "outputs": [],
   "source": [
    "traindgnfs, trainls = shuffle(traindgnf, trainl)"
   ]
  },
  {
   "cell_type": "markdown",
   "id": "hollow-preparation",
   "metadata": {},
   "source": [
    "## قدم 2\n",
    "\n",
    "در کلاس \n",
    "\n",
    "DenseMLP\n",
    "\n",
    "ابتدا مجموعه داده آموزش و تست ما ورودی گرفته میشوند و همچنین وزن های مدل مقداردهی اولیه می شود. مقدار یال ها طبق توزیع نرمال و مقدار بایاس ها با صفر مقداردهی اولیه می شوند.\n",
    "\n",
    "در تابع \n",
    "\n",
    "feed_forward\n",
    "\n",
    "یک عکس ورودی گرفته می شود و خروجی شبکه در 4 نرون مشخص می شود.\n",
    "در تابع \n",
    "\n",
    "predict\n",
    "\n",
    "مشخص می شود شبکه عصبی عکس ورودی گرفته را به چه لیبلی نسبت می دهد.\n",
    "در تابع \n",
    "\n",
    "test_n\n",
    "\n",
    "تعداد عکس هایی که میخواهد تست کند و دقت را بسنجد ورودی می گیرد و سپس به آن تعداد عکس از مجموعه داده آموزش جدا می کند و نتیجه خروجی شبکه عصبی را با لیبل اصلی آن تطبیق می دهد و دقت را پس از اتمام این تعداد، محاسبه می کند"
   ]
  },
  {
   "cell_type": "code",
   "execution_count": 38,
   "id": "friendly-harvard",
   "metadata": {},
   "outputs": [
    {
     "name": "stdout",
     "output_type": "stream",
     "text": [
      "accuracy: 0.245\n"
     ]
    }
   ],
   "source": [
    "mlp = DenseMLP(traindgnfs, trainls, testdgnf, testl)\n",
    "\n",
    "print(f'accuracy: {mlp.test_n(200)}')"
   ]
  },
  {
   "cell_type": "markdown",
   "id": "expanded-terminal",
   "metadata": {},
   "source": [
    "## قدم سوم\n",
    "\n",
    "در این مرحله از روش گرادیان کاهشی استفاده کردیم تا وزن ها و بایاس ها را تغیر دهیم به گونه ای که بتوانند عکس های بیشتری را دسته بندی صحیح انجام دهند.\n",
    "\n",
    "طبق خواسته دستور کار از 200 داده اول مجموعه داده آموزش استفاده شده است\n",
    "\n",
    "دیگر هایپرپارامترها عبارتند از:\n",
    "\n",
    "ضریب یادگیری 0.3\n",
    "\n",
    "batch size = 16\n",
    "\n",
    "و تعداد ایپاک های 10"
   ]
  },
  {
   "cell_type": "code",
   "execution_count": 41,
   "id": "cognitive-fancy",
   "metadata": {},
   "outputs": [
    {
     "name": "stdout",
     "output_type": "stream",
     "text": [
      "start accuracy: 0.31\n"
     ]
    }
   ],
   "source": [
    "mlp = DenseMLP(traindgnfs, trainls, testdgnf, testl)\n",
    "print(f'start accuracy: {mlp.test_n(200)}')"
   ]
  },
  {
   "cell_type": "code",
   "execution_count": 42,
   "id": "opponent-henry",
   "metadata": {},
   "outputs": [
    {
     "name": "stdout",
     "output_type": "stream",
     "text": [
      "finish accuracy: 0.38\n",
      "execution time: 80.91929459571838s\n"
     ]
    },
    {
     "data": {
      "image/png": "[encoded data removed]",
      "text/plain": [
       "<Figure size 432x288 with 1 Axes>"
      ]
     },
     "metadata": {
      "needs_background": "light"
     },
     "output_type": "display_data"
    }
   ],
   "source": [
    "costs, exec_time = mlp.gradient_descent(size=200, number_of_epochs=10)\n",
    "print(f'finish accuracy: {mlp.test_n(200)}')\n",
    "print(f'execution time: {exec_time}s')\n",
    "x = np.arange(1, 11)\n",
    "plt.plot(x, costs, color =\"red\")\n",
    "plt.xlabel(\"Epochs\")\n",
    "plt.ylabel(\"Cost\")\n",
    "plt.show()"
   ]
  },
  {
   "cell_type": "markdown",
   "id": "alike-japan",
   "metadata": {},
   "source": [
    "## قدم چهارم\n",
    "\n",
    "در این مرحله عملیات محاسبه گرادیان برای وزن‌ها را \n",
    "\n",
    "vectorized\n",
    "\n",
    "کردیم تا به وسیله بهینه سازی هایی که برای عملیات های ماتریسی انجام میگیرد، سرعت محاسبه کل افزایش یابد.\n",
    "\n",
    "از میان هایپرپارامتر ها تعداد ایپاک ها به 20 افزایش یافت.\n",
    "\n",
    "همچنین 10 بار از ابتدا شبکه را مقداردهی می کنیم و آموزش میدهیم تا دقت و زمان آموزش را برای این 10 بار میانگین بگیریم"
   ]
  },
  {
   "cell_type": "code",
   "execution_count": 21,
   "id": "endless-railway",
   "metadata": {},
   "outputs": [
    {
     "data": {
      "image/png": "[encoded data removed]",
      "text/plain": [
       "<Figure size 432x288 with 1 Axes>"
      ]
     },
     "metadata": {
      "needs_background": "light"
     },
     "output_type": "display_data"
    },
    {
     "data": {
      "image/png": "[encoded data removed]",
      "text/plain": [
       "<Figure size 432x288 with 1 Axes>"
      ]
     },
     "metadata": {
      "needs_background": "light"
     },
     "output_type": "display_data"
    },
    {
     "data": {
      "image/png": "[encoded data removed]",
      "text/plain": [
       "<Figure size 432x288 with 1 Axes>"
      ]
     },
     "metadata": {
      "needs_background": "light"
     },
     "output_type": "display_data"
    },
    {
     "data": {
      "image/png": "[encoded data removed]",
      "text/plain": [
       "<Figure size 432x288 with 1 Axes>"
      ]
     },
     "metadata": {
      "needs_background": "light"
     },
     "output_type": "display_data"
    },
    {
     "data": {
      "image/png": "[encoded data removed]",
      "text/plain": [
       "<Figure size 432x288 with 1 Axes>"
      ]
     },
     "metadata": {
      "needs_background": "light"
     },
     "output_type": "display_data"
    },
    {
     "data": {
      "image/png": "[encoded data removed]",
      "text/plain": [
       "<Figure size 432x288 with 1 Axes>"
      ]
     },
     "metadata": {
      "needs_background": "light"
     },
     "output_type": "display_data"
    },
    {
     "data": {
      "image/png": "[encoded data removed]",
      "text/plain": [
       "<Figure size 432x288 with 1 Axes>"
      ]
     },
     "metadata": {
      "needs_background": "light"
     },
     "output_type": "display_data"
    },
    {
     "data": {
      "image/png": "[encoded data removed]",
      "text/plain": [
       "<Figure size 432x288 with 1 Axes>"
      ]
     },
     "metadata": {
      "needs_background": "light"
     },
     "output_type": "display_data"
    },
    {
     "data": {
      "image/png": "[encoded data removed]",
      "text/plain": [
       "<Figure size 432x288 with 1 Axes>"
      ]
     },
     "metadata": {
      "needs_background": "light"
     },
     "output_type": "display_data"
    },
    {
     "data": {
      "image/png": "[encoded data removed]",
      "text/plain": [
       "<Figure size 432x288 with 1 Axes>"
      ]
     },
     "metadata": {
      "needs_background": "light"
     },
     "output_type": "display_data"
    },
    {
     "name": "stdout",
     "output_type": "stream",
     "text": [
      "avg accuracy: 0.292\n",
      "avg exec time: 1.4956510543823243s\n"
     ]
    }
   ],
   "source": [
    "total_accuracy = 0\n",
    "total_exec_time = 0\n",
    "for i in range(10):\n",
    "    mlp = DenseMLP(traindgnfs, trainls, testdgnf, testl)\n",
    "    costs, exec_time = mlp.gradient_descent_vec(size=200, number_of_epochs=20)\n",
    "    total_accuracy += mlp.test_n(200)\n",
    "    total_exec_time += exec_time\n",
    "    x = np.arange(1, 21)\n",
    "    plt.plot(x, costs, color =\"red\")\n",
    "    plt.xlabel(\"Epochs\")\n",
    "    plt.ylabel(\"Cost\")\n",
    "    plt.show()\n",
    "print(f'avg accuracy: {total_accuracy/10}')\n",
    "print(f'avg exec time: {total_exec_time/10}s')"
   ]
  },
  {
   "cell_type": "markdown",
   "id": "twelve-matthew",
   "metadata": {},
   "source": [
    "## قدم پنجم\n",
    "\n",
    "در این قدم شبکه را با 8000 داده در 40 ایپاک آموزش می‌دهیم و سپس توسط داده های آموزش و تست، می‌آزماییم. "
   ]
  },
  {
   "cell_type": "code",
   "execution_count": 22,
   "id": "sweet-flesh",
   "metadata": {},
   "outputs": [
    {
     "name": "stdout",
     "output_type": "stream",
     "text": [
      "avg test accuracy: 0.48675\n",
      "avg train accuracy: 0.513875\n",
      "avg exec time: 135.17285227775574s\n"
     ]
    },
    {
     "data": {
      "image/png": "[encoded data removed]",
      "text/plain": [
       "<Figure size 432x288 with 1 Axes>"
      ]
     },
     "metadata": {
      "needs_background": "light"
     },
     "output_type": "display_data"
    }
   ],
   "source": [
    "mlp = DenseMLP(traindgnfs, trainls, testdgnf, testl)\n",
    "costs, exec_time = mlp.gradient_descent_vec(size=8000, number_of_epochs=40)\n",
    "print(f'avg test accuracy: {mlp.test_n(8000)}')\n",
    "print(f'avg train accuracy: {mlp.train_n(8000)}')\n",
    "print(f'avg exec time: {exec_time}s')\n",
    "x = np.arange(1, 41)\n",
    "plt.plot(x, costs, color =\"red\")\n",
    "plt.xlabel(\"Epochs\")\n",
    "plt.ylabel(\"Cost\")\n",
    "plt.show()"
   ]
  },
  {
   "cell_type": "code",
   "execution_count": 23,
   "id": "neither-sauce",
   "metadata": {},
   "outputs": [
    {
     "name": "stdout",
     "output_type": "stream",
     "text": [
      "avg test accuracy: 0.4795\n",
      "avg train accuracy: 0.5184625\n",
      "avg exec time: 143.38499462604523s\n"
     ]
    }
   ],
   "source": [
    "total_train_accuracy = 0\n",
    "total_test_accuracy = 0\n",
    "total_exec_time = 0\n",
    "for i in range(10):\n",
    "    mlp = DenseMLP(traindgnfs, trainls, testdgnf, testl)\n",
    "    costs, exec_time = mlp.gradient_descent_vec(size=8000, number_of_epochs=40)\n",
    "    total_test_accuracy += mlp.test_n(8000)\n",
    "    total_train_accuracy += mlp.train_n(8000)\n",
    "    total_exec_time += exec_time\n",
    "print(f'avg test accuracy: {total_test_accuracy/10}')\n",
    "print(f'avg train accuracy: {total_train_accuracy/10}')\n",
    "print(f'avg exec time: {total_exec_time/10}s')"
   ]
  },
  {
   "cell_type": "code",
   "execution_count": null,
   "id": "equivalent-kitchen",
   "metadata": {},
   "outputs": [],
   "source": []
  }
 ],
 "metadata": {
  "kernelspec": {
   "display_name": "Python 3",
   "language": "python",
   "name": "python3"
  },
  "language_info": {
   "codemirror_mode": {
    "name": "ipython",
    "version": 3
   },
   "file_extension": ".py",
   "mimetype": "text/x-python",
   "name": "python",
   "nbconvert_exporter": "python",
   "pygments_lexer": "ipython3",
   "version": "3.8.1"
  }
 },
 "nbformat": 4,
 "nbformat_minor": 5
}
